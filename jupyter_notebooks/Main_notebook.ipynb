{
  "cells": [
    {
      "cell_type": "markdown",
      "metadata": {
        "id": "0aStgWSO0E0E"
      },
      "source": [
        "# **Heretage Housing**"
      ]
    },
    {
      "cell_type": "markdown",
      "metadata": {},
      "source": [
        "# 1. Introduction\n",
        "\"\"\"\n",
        "This notebook aims to help maximize the sale prices of four inherited properties in Ames, Iowa by analyzing house features and building a machine learning model to predict house sale prices.\n",
        "We will explore several hypotheses and validate them through data analysis and visualizations.\n",
        "\"\"\""
      ]
    },
    {
      "cell_type": "markdown",
      "metadata": {
        "id": "1eLEkw5O0ECa"
      },
      "source": [
        "## Objectives\n",
        "\n",
        "* The objective of this notebook is to fetch, clean, and analyze housing data to predict house sale prices using machine learning models. This includes performing Exploratory Data Analysis (EDA), building a predictive model, tuning it for accuracy, and evaluating the results.\n",
        "\n",
        "## Inputs\n",
        "\n",
        "* The input data is from the 'Ames Housing Dataset', a CSV file. The notebook requires the data to have features like total square footage, year built, neighborhood information, garage area, and sale price, among others. \n",
        "\n",
        "## Outputs\n",
        "\n",
        "* The outputs will include exploratory data visualizations, trained machine learning models, and their performance metrics. The final model will be able to predict sale prices based on house features. Artifacts generated include the best-tuned Random Forest model and its performance report.\n",
        "\n",
        "## Additional Comments\n",
        "\n",
        "* In case you have any additional comments that don't fit in the previous bullets, please state them here. \n"
      ]
    },
    {
      "cell_type": "markdown",
      "metadata": {
        "id": "9uWZXH9LwoQg"
      },
      "source": [
        "---"
      ]
    },
    {
      "cell_type": "markdown",
      "metadata": {
        "id": "-mavJ8DibrcQ"
      },
      "source": [
        "# Section 1 loading imports and files"
      ]
    },
    {
      "cell_type": "markdown",
      "metadata": {},
      "source": [
        "This section is just to simply load all imports and files needed in order to rurn the rest of the notebook"
      ]
    },
    {
      "cell_type": "code",
      "execution_count": null,
      "metadata": {},
      "outputs": [],
      "source": [
        "# 1. Imports and Data Loading\n",
        "import streamlit as st\n",
        "import pandas as pd\n",
        "import numpy as np\n",
        "import seaborn as sns\n",
        "import matplotlib.pyplot as plt\n",
        "import plotly.express as px\n",
        "from sklearn.model_selection import train_test_split\n",
        "from sklearn.ensemble import RandomForestRegressor\n",
        "from sklearn.linear_model import LinearRegression\n",
        "from sklearn.metrics import mean_squared_error, r2_score\n",
        "from sklearn.preprocessing import LabelEncoder\n",
        "\n",
        "# Load the dataset\n",
        "df = pd.read_csv('AmesHousing.csv')\n",
        "\n",
        "# Fill missing values\n",
        "df.fillna(df.median(), inplace=True)\n",
        "\n",
        "# Encode categorical features\n",
        "le = LabelEncoder()\n",
        "df['Neighborhood'] = le.fit_transform(df['Neighborhood'])\n",
        "\n",
        "# Add new features\n",
        "df['TotalSF'] = df['1stFlrSF'] + df['2ndFlrSF'] + df['TotalBsmtSF']\n",
        "\n",
        "# Split the dataset into features (X) and target (y)\n",
        "X = df[['TotalSF', 'OverallQual', 'GarageArea', 'YearBuilt', 'Neighborhood']]\n",
        "y = df['SalePrice']\n",
        "\n",
        "# Split into training and testing datasets\n",
        "X_train, X_test, y_train, y_test = train_test_split(X, y, test_size=0.2, random_state=42)\n",
        "\n",
        "# Train the Random Forest model\n",
        "rf_model = RandomForestRegressor(n_estimators=100, random_state=42)\n",
        "rf_model.fit(X_train, y_train)\n",
        "\n",
        "# Title\n",
        "st.title(\"Heritage Housing Price Prediction Dashboard\")\n",
        "st.write(\"This dashboard helps predict house prices in Ames, Iowa using Exploratory Data Analysis and machine learning models.\")\n"
      ]
    },
    {
      "cell_type": "markdown",
      "metadata": {
        "id": "ZY3l0-AxO93d"
      },
      "source": [
        "---"
      ]
    },
    {
      "cell_type": "markdown",
      "metadata": {
        "id": "uFQo3ycuO-v6"
      },
      "source": [
        "# Section 2 (EDA analysis)"
      ]
    },
    {
      "cell_type": "markdown",
      "metadata": {},
      "source": [
        "This section is about the Analysis and plotting of the dataset given to me when i first forked the template at the start of this project."
      ]
    },
    {
      "cell_type": "code",
      "execution_count": null,
      "metadata": {},
      "outputs": [],
      "source": [
        "# 2. Exploratory Data Analysis (EDA)\n",
        "\n",
        "# Correlation Heatmap\n",
        "st.subheader('Exploratory Data Analysis')\n",
        "st.write(\"### Correlation Heatmap\")\n",
        "fig, ax = plt.subplots(figsize=(10, 8))\n",
        "sns.heatmap(df.corr(), annot=True, cmap='coolwarm', fmt='.2f', ax=ax)\n",
        "st.pyplot(fig)\n",
        "\n",
        "# Scatter plot for Total Square Footage vs Sale Price\n",
        "st.write(\"### Total Square Footage vs Sale Price\")\n",
        "fig = px.scatter(df, x='TotalSF', y='SalePrice', opacity=0.5, title='Total Square Footage vs Sale Price')\n",
        "st.plotly_chart(fig)\n",
        "\n",
        "# Box plot for Neighborhood vs Sale Price\n",
        "st.write(\"### Neighborhood vs Sale Price\")\n",
        "fig = px.box(df, x='Neighborhood', y='SalePrice', title='Neighborhood vs Sale Price')\n",
        "st.plotly_chart(fig)\n",
        "\n",
        "# Scatter plot for Overall Quality vs Sale Price\n",
        "st.write(\"### Overall Quality vs Sale Price\")\n",
        "fig = px.scatter(df, x='OverallQual', y='SalePrice', opacity=0.5, title='Overall Quality vs Sale Price')\n",
        "st.plotly_chart(fig)\n",
        "\n",
        "# Scatter plot for Year Built vs Sale Price\n",
        "st.write(\"### Year Built vs Sale Price\")\n",
        "fig = px.scatter(df, x='YearBuilt', y='SalePrice', opacity=0.5, title='Year Built vs Sale Price')\n",
        "st.plotly_chart(fig)\n",
        "\n",
        "# Scatter plot for Garage Area vs Sale Price\n",
        "st.write(\"### Garage Area vs Sale Price\")\n",
        "fig = px.scatter(df, x='GarageArea', y='SalePrice', opacity=0.5, title='Garage Area vs Sale Price')\n",
        "st.plotly_chart(fig)\n"
      ]
    },
    {
      "cell_type": "markdown",
      "metadata": {},
      "source": [
        "# **Section 4 Machine learning model development**"
      ]
    },
    {
      "cell_type": "markdown",
      "metadata": {},
      "source": [
        "This section is all about the predictions and evaluations from different models in the dataset given such as:\n",
        "- Linear regression model\n",
        "- Random Forest Model\n",
        "    - Hyperperameter tuning for the RFM"
      ]
    },
    {
      "cell_type": "code",
      "execution_count": null,
      "metadata": {},
      "outputs": [],
      "source": [
        "# 3. Machine Learning Model Development\n",
        "\n",
        "# Function to make predictions\n",
        "def predict_price(total_sf, overall_qual, garage_area, year_built, neighborhood):\n",
        "    input_data = pd.DataFrame([[total_sf, overall_qual, garage_area, year_built, neighborhood]], \n",
        "                              columns=['TotalSF', 'OverallQual', 'GarageArea', 'YearBuilt', 'Neighborhood'])\n",
        "    return rf_model.predict(input_data)[0]\n",
        "\n",
        "# Sidebar for user input\n",
        "st.sidebar.header(\"Input Features\")\n",
        "total_sf = st.sidebar.slider('Total Square Footage', int(df['TotalSF'].min()), int(df['TotalSF'].max()), int(df['TotalSF'].mean()))\n",
        "overall_qual = st.sidebar.slider('Overall Quality', int(df['OverallQual'].min()), int(df['OverallQual'].max()), int(df['OverallQual'].mean()))\n",
        "garage_area = st.sidebar.slider('Garage Area', int(df['GarageArea'].min()), int(df['GarageArea'].max()), int(df['GarageArea'].mean()))\n",
        "year_built = st.sidebar.slider('Year Built', int(df['YearBuilt'].min()), int(df['YearBuilt'].max()), int(df['YearBuilt'].mean()))\n",
        "neighborhood = st.sidebar.selectbox('Neighborhood', df['Neighborhood'].unique())\n",
        "\n",
        "# Predict house price based on input\n",
        "if st.sidebar.button(\"Predict Sale Price\"):\n",
        "    price = predict_price(total_sf, overall_qual, garage_area, year_built, neighborhood)\n",
        "    st.write(f\"### Predicted Sale Price: ${price:,.2f}\")\n"
      ]
    },
    {
      "cell_type": "markdown",
      "metadata": {},
      "source": [
        "# **Section 5 Model Evaluation and results**"
      ]
    },
    {
      "cell_type": "code",
      "execution_count": null,
      "metadata": {},
      "outputs": [],
      "source": [
        "# 4. Model Evaluation and Results\n",
        "\n",
        "# Residuals Plot\n",
        "st.subheader(\"Model Evaluation\")\n",
        "st.write(\"### Residuals Plot\")\n",
        "y_pred_rf = rf_model.predict(X_test)\n",
        "fig, ax = plt.subplots(figsize=(8,6))\n",
        "plt.scatter(y_test, y_test - y_pred_rf, alpha=0.5)\n",
        "plt.title('Residuals Plot')\n",
        "plt.xlabel('Actual Sale Price')\n",
        "plt.ylabel('Residuals')\n",
        "st.pyplot(fig)\n",
        "\n",
        "# Display R² and RMSE for the model\n",
        "st.write(f\"### Random Forest R²: {r2_score(y_test, y_pred_rf):.4f}\")\n",
        "st.write(f\"### Random Forest RMSE: {np.sqrt(mean_squared_error(y_test, y_pred_rf)):.2f}\")\n"
      ]
    },
    {
      "cell_type": "markdown",
      "metadata": {},
      "source": [
        "---"
      ]
    },
    {
      "cell_type": "markdown",
      "metadata": {},
      "source": [
        "# **Conclusion**"
      ]
    },
    {
      "cell_type": "markdown",
      "metadata": {},
      "source": [
        "From the analysis, we found that larger homes, higher quality, and newer homes fetch higher sale prices. Features such as location (neighborhood) and garage space also impact prices significantly. The best-tuned Random Forest model provided accurate predictions, and feature importance analysis showed that house size and overall quality are key drivers of sale price."
      ]
    },
    {
      "cell_type": "markdown",
      "metadata": {},
      "source": [
        "---"
      ]
    },
    {
      "cell_type": "markdown",
      "metadata": {
        "id": "ltNetd085qHf"
      },
      "source": [
        "# 7. Credits and Acknowledgements"
      ]
    },
    {
      "cell_type": "markdown",
      "metadata": {},
      "source": [
        "- Dataset from Ames Housing Dataset.\n",
        "- Inspiration from Machine Learning and Data Analysis walkthrough projects\n",
        "- My mentor precious ijege for his guidance in this project\n",
        "- My fellow peers such as Beth Cottel for checking in with me when times were tuff during this development (and for keeping me smiling aswell as motivated)"
      ]
    },
    {
      "cell_type": "markdown",
      "metadata": {},
      "source": [
        "# Limitations and Next steps"
      ]
    },
    {
      "cell_type": "markdown",
      "metadata": {},
      "source": [
        "* One limitation of the model is that we focused on a subset of features; other factors such as market conditions or interior characteristics might also impact house prices."
      ]
    }
  ],
  "metadata": {
    "accelerator": "GPU",
    "colab": {
      "name": "Data Practitioner Jupyter Notebook.ipynb",
      "provenance": [],
      "toc_visible": true
    },
    "interpreter": {
      "hash": "8b8334dab9339717f727a1deaf837b322d7a41c20d15cc86be99a8e69ceec8ce"
    },
    "kernelspec": {
      "display_name": "Python 3.8.12 64-bit ('3.8.12': pyenv)",
      "name": "python3"
    },
    "language_info": {
      "codemirror_mode": {
        "name": "ipython",
        "version": 3
      },
      "file_extension": ".py",
      "mimetype": "text/x-python",
      "name": "python",
      "nbconvert_exporter": "python",
      "pygments_lexer": "ipython3",
      "version": "3.8.18"
    },
    "orig_nbformat": 2
  },
  "nbformat": 4,
  "nbformat_minor": 2
}
